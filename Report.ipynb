{
 "cells": [
  {
   "cell_type": "markdown",
   "source": [
    "# Recipe Site Traffic Project"
   ],
   "metadata": {
    "collapsed": false
   }
  },
  {
   "cell_type": "markdown",
   "source": [
    "## Data Validation\n",
    "This data set has 947 rows, 8 columns. I have validated all variables and I have  made some changes after validation. All the columns are just as described in the data dictionary:\n",
    "- recipe: numeric values, same as the description. No cleaning is needed.\n",
    "- calories: numeric values, It contained 52 missing values. Cleaning was made later on.\n",
    "- carbohydrate: numeric values, It contained 52 missing values. Cleaning was made later on.\n",
    "- sugar: numeric values, It contained 52 missing values. Cleaning was made later on.\n",
    "- protein: numeric values, It contained 52 missing values. Cleaning was made later on.\n",
    "**Note: We noticed that in these 52 missing values all the whole row containing fields calories, carbohydrates, sugar, and protein are missing so because they don't form a huge part of the data we decided to drop them**\n",
    "- category: 11 categories without missing values, it contained one extra category called _'Chicken Breast'_ that we had to deal with and transform it into _'Chicken'_.\n",
    "- servings: object that contained 2 extra fields _'6 as snack'_, and _'4 as snack'_ which where turned into their corresponding numbers (_6_ and _4_ respectively) and the whole column was transformed into numeric type.\n",
    "- high_traffic: It contained one category _'High'_ and lots of missing value  which where assumed to be the low traffic and replaced with the wrod _'Low'_"
   ],
   "metadata": {
    "collapsed": false
   }
  },
  {
   "cell_type": "code",
   "execution_count": 1,
   "outputs": [],
   "source": [
    "import numpy as np\n",
    "import pandas as pd\n",
    "import matplotlib.pyplot as plt\n",
    "import seaborn as sns\n",
    "from sklearn.model_selection import train_test_split, GridSearchCV\n",
    "from sklearn.preprocessing import StandardScaler,LabelEncoder, PowerTransformer, RobustScaler, MinMaxScaler,QuantileTransformer\n",
    "from sklearn.linear_model import LogisticRegression\n",
    "from sklearn.metrics import accuracy_score,roc_auc_score\n",
    "from sklearn.tree import DecisionTreeClassifier\n",
    "from sklearn.ensemble import RandomForestClassifier, GradientBoostingClassifier\n",
    "plt.style.use('ggplot')"
   ],
   "metadata": {
    "collapsed": false
   }
  },
  {
   "cell_type": "code",
   "execution_count": 2,
   "outputs": [
    {
     "data": {
      "text/plain": "   recipe  calories  carbohydrate  sugar  protein   category servings  \\\n0       1       NaN           NaN    NaN      NaN       Pork        6   \n1       2     35.48         38.56   0.66     0.92     Potato        4   \n2       3    914.28         42.68   3.09     2.88  Breakfast        1   \n3       4     97.03         30.56  38.63     0.02  Beverages        4   \n4       5     27.05          1.85   0.80     0.53  Beverages        4   \n\n  high_traffic  \n0         High  \n1         High  \n2          NaN  \n3         High  \n4          NaN  ",
      "text/html": "<div>\n<style scoped>\n    .dataframe tbody tr th:only-of-type {\n        vertical-align: middle;\n    }\n\n    .dataframe tbody tr th {\n        vertical-align: top;\n    }\n\n    .dataframe thead th {\n        text-align: right;\n    }\n</style>\n<table border=\"1\" class=\"dataframe\">\n  <thead>\n    <tr style=\"text-align: right;\">\n      <th></th>\n      <th>recipe</th>\n      <th>calories</th>\n      <th>carbohydrate</th>\n      <th>sugar</th>\n      <th>protein</th>\n      <th>category</th>\n      <th>servings</th>\n      <th>high_traffic</th>\n    </tr>\n  </thead>\n  <tbody>\n    <tr>\n      <th>0</th>\n      <td>1</td>\n      <td>NaN</td>\n      <td>NaN</td>\n      <td>NaN</td>\n      <td>NaN</td>\n      <td>Pork</td>\n      <td>6</td>\n      <td>High</td>\n    </tr>\n    <tr>\n      <th>1</th>\n      <td>2</td>\n      <td>35.48</td>\n      <td>38.56</td>\n      <td>0.66</td>\n      <td>0.92</td>\n      <td>Potato</td>\n      <td>4</td>\n      <td>High</td>\n    </tr>\n    <tr>\n      <th>2</th>\n      <td>3</td>\n      <td>914.28</td>\n      <td>42.68</td>\n      <td>3.09</td>\n      <td>2.88</td>\n      <td>Breakfast</td>\n      <td>1</td>\n      <td>NaN</td>\n    </tr>\n    <tr>\n      <th>3</th>\n      <td>4</td>\n      <td>97.03</td>\n      <td>30.56</td>\n      <td>38.63</td>\n      <td>0.02</td>\n      <td>Beverages</td>\n      <td>4</td>\n      <td>High</td>\n    </tr>\n    <tr>\n      <th>4</th>\n      <td>5</td>\n      <td>27.05</td>\n      <td>1.85</td>\n      <td>0.80</td>\n      <td>0.53</td>\n      <td>Beverages</td>\n      <td>4</td>\n      <td>NaN</td>\n    </tr>\n  </tbody>\n</table>\n</div>"
     },
     "execution_count": 2,
     "metadata": {},
     "output_type": "execute_result"
    }
   ],
   "source": [
    "df = pd.read_csv('./recipe_site_traffic_2212.csv')\n",
    "df.head()"
   ],
   "metadata": {
    "collapsed": false
   }
  },
  {
   "cell_type": "code",
   "execution_count": 3,
   "outputs": [
    {
     "data": {
      "text/plain": "recipe            0\ncalories         52\ncarbohydrate     52\nsugar            52\nprotein          52\ncategory          0\nservings          0\nhigh_traffic    373\ndtype: int64"
     },
     "execution_count": 3,
     "metadata": {},
     "output_type": "execute_result"
    }
   ],
   "source": [
    "# Check for missing values\n",
    "df.isna().sum()"
   ],
   "metadata": {
    "collapsed": false
   }
  },
  {
   "cell_type": "code",
   "execution_count": 4,
   "outputs": [],
   "source": [
    "# Dealing with missing values\n",
    "df['high_traffic']=df['high_traffic'].fillna(value=\"Low\")\n",
    "df = df.dropna()"
   ],
   "metadata": {
    "collapsed": false
   }
  },
  {
   "cell_type": "code",
   "execution_count": 5,
   "outputs": [],
   "source": [
    "# validate servings\n",
    "df['servings'] = df['servings'].replace('4 as a snack','4')\n",
    "df['servings'] = df['servings'].replace('6 as a snack','6')\n",
    "df['servings'] = df['servings'].astype(int)"
   ],
   "metadata": {
    "collapsed": false
   }
  },
  {
   "cell_type": "code",
   "execution_count": 6,
   "outputs": [
    {
     "name": "stdout",
     "output_type": "stream",
     "text": [
      "['Potato' 'Breakfast' 'Beverages' 'One Dish Meal' 'Chicken Breast'\n",
      " 'Lunch/Snacks' 'Pork' 'Chicken' 'Vegetable' 'Meat' 'Dessert']\n"
     ]
    }
   ],
   "source": [
    "# validate 10 types of category\n",
    "print(df['category'].unique())\n",
    "df['category'] = df['category'].replace('Chicken Breast','Chicken')"
   ],
   "metadata": {
    "collapsed": false
   }
  },
  {
   "cell_type": "code",
   "execution_count": 7,
   "outputs": [
    {
     "data": {
      "text/plain": "   recipe  calories  carbohydrate  sugar  protein       category  servings  \\\n1       2     35.48         38.56   0.66     0.92         Potato         4   \n2       3    914.28         42.68   3.09     2.88      Breakfast         1   \n3       4     97.03         30.56  38.63     0.02      Beverages         4   \n4       5     27.05          1.85   0.80     0.53      Beverages         4   \n5       6    691.15          3.46   1.65    53.93  One Dish Meal         2   \n\n  high_traffic  \n1         High  \n2          Low  \n3         High  \n4          Low  \n5         High  ",
      "text/html": "<div>\n<style scoped>\n    .dataframe tbody tr th:only-of-type {\n        vertical-align: middle;\n    }\n\n    .dataframe tbody tr th {\n        vertical-align: top;\n    }\n\n    .dataframe thead th {\n        text-align: right;\n    }\n</style>\n<table border=\"1\" class=\"dataframe\">\n  <thead>\n    <tr style=\"text-align: right;\">\n      <th></th>\n      <th>recipe</th>\n      <th>calories</th>\n      <th>carbohydrate</th>\n      <th>sugar</th>\n      <th>protein</th>\n      <th>category</th>\n      <th>servings</th>\n      <th>high_traffic</th>\n    </tr>\n  </thead>\n  <tbody>\n    <tr>\n      <th>1</th>\n      <td>2</td>\n      <td>35.48</td>\n      <td>38.56</td>\n      <td>0.66</td>\n      <td>0.92</td>\n      <td>Potato</td>\n      <td>4</td>\n      <td>High</td>\n    </tr>\n    <tr>\n      <th>2</th>\n      <td>3</td>\n      <td>914.28</td>\n      <td>42.68</td>\n      <td>3.09</td>\n      <td>2.88</td>\n      <td>Breakfast</td>\n      <td>1</td>\n      <td>Low</td>\n    </tr>\n    <tr>\n      <th>3</th>\n      <td>4</td>\n      <td>97.03</td>\n      <td>30.56</td>\n      <td>38.63</td>\n      <td>0.02</td>\n      <td>Beverages</td>\n      <td>4</td>\n      <td>High</td>\n    </tr>\n    <tr>\n      <th>4</th>\n      <td>5</td>\n      <td>27.05</td>\n      <td>1.85</td>\n      <td>0.80</td>\n      <td>0.53</td>\n      <td>Beverages</td>\n      <td>4</td>\n      <td>Low</td>\n    </tr>\n    <tr>\n      <th>5</th>\n      <td>6</td>\n      <td>691.15</td>\n      <td>3.46</td>\n      <td>1.65</td>\n      <td>53.93</td>\n      <td>One Dish Meal</td>\n      <td>2</td>\n      <td>High</td>\n    </tr>\n  </tbody>\n</table>\n</div>"
     },
     "execution_count": 7,
     "metadata": {},
     "output_type": "execute_result"
    }
   ],
   "source": [
    "#validate any negative values in numeric variables\n",
    "df.head()"
   ],
   "metadata": {
    "collapsed": false
   }
  }
 ],
 "metadata": {
  "kernelspec": {
   "display_name": "Python 3",
   "language": "python",
   "name": "python3"
  },
  "language_info": {
   "codemirror_mode": {
    "name": "ipython",
    "version": 2
   },
   "file_extension": ".py",
   "mimetype": "text/x-python",
   "name": "python",
   "nbconvert_exporter": "python",
   "pygments_lexer": "ipython2",
   "version": "2.7.6"
  }
 },
 "nbformat": 4,
 "nbformat_minor": 0
}
